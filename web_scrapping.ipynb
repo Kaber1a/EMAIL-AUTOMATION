{
  "nbformat": 4,
  "nbformat_minor": 0,
  "metadata": {
    "colab": {
      "provenance": [],
      "authorship_tag": "ABX9TyOaj37kbEN88lasJgwM96+H",
      "include_colab_link": true
    },
    "kernelspec": {
      "name": "python3",
      "display_name": "Python 3"
    },
    "language_info": {
      "name": "python"
    }
  },
  "cells": [
    {
      "cell_type": "markdown",
      "metadata": {
        "id": "view-in-github",
        "colab_type": "text"
      },
      "source": [
        "<a href=\"https://colab.research.google.com/github/Kaber1a/EMAIL-AUTOMATION/blob/main/web_scrapping.ipynb\" target=\"_parent\"><img src=\"https://colab.research.google.com/assets/colab-badge.svg\" alt=\"Open In Colab\"/></a>"
      ]
    },
    {
      "cell_type": "markdown",
      "source": [
        "**AUTOMATION OF SENDING EMAILS AFTER WEB SCRAPPING BY Kevin Munya**"
      ],
      "metadata": {
        "id": "Uo7i9cyay1vS"
      }
    },
    {
      "cell_type": "code",
      "execution_count": 56,
      "metadata": {
        "id": "7RiDExI-mFDm"
      },
      "outputs": [],
      "source": [
        "import requests\n",
        "from bs4 import BeautifulSoup\n",
        "import smtplib\n",
        "from email.mime.multipart import MIMEMultipart\n",
        "from email.mime.text import MIMEText\n",
        "import datetime\n",
        "import time\n",
        "now = datetime.datetime.now()"
      ]
    },
    {
      "cell_type": "markdown",
      "source": [
        "I have imported the necessary libraries that i need to extract the required informatrion from the website.I also have modified the date to ensure the emails being received by the recipients shows the real date the email was sent minimizing mix-up of information"
      ],
      "metadata": {
        "id": "_CEaZXjGy-Zd"
      }
    },
    {
      "cell_type": "code",
      "source": [
        "content = ''\n"
      ],
      "metadata": {
        "id": "pn1i_QC3mZgH"
      },
      "execution_count": 57,
      "outputs": []
    },
    {
      "cell_type": "markdown",
      "source": [
        "I have created an empty list named content where I will fill the cotent I want to display in the email after extracting from the websites"
      ],
      "metadata": {
        "id": "zmZkblC0zjx0"
      }
    },
    {
      "cell_type": "code",
      "source": [
        "def extract_news(url):\n",
        "  print('Exctracting Hacker Newds Stories')\n",
        "  cnt= ''\n",
        "  cnt += ('<b>' + url + '</b>' + '\\n' + '<br>')\n",
        "  response = requests.get(url)\n",
        "def extract_news(url):\n",
        "  print('Exctracting Hacker Newds Stories')\n",
        "  cnt= ''\n",
        "  cnt += ('<b>' + url + '</b>' + '\\n' + '<br>')\n",
        "  response = requests.get(url)\n",
        "  content = response.content\n",
        "  soup = BeautifulSoup(content, 'html.parser')\n",
        "  for i, tag in enumerate(soup.find_all('td', attrs={'class':'title', 'valign':''})):\n",
        "    cnt += ((str(i) + ' : ' + tag.text + '\\n' + '<br>') if tag.text != 'More' else '')\n",
        "  return cnt"
      ],
      "metadata": {
        "id": "SFBY8lT2mdmb"
      },
      "execution_count": 58,
      "outputs": []
    },
    {
      "cell_type": "markdown",
      "source": [
        "I have identified key details from the website that I want my recipients to view and also formatted to the form that I want the recipients to view them"
      ],
      "metadata": {
        "id": "UdM0fRPZzu58"
      }
    },
    {
      "cell_type": "code",
      "source": [
        "cnt= extract_news('https://news.ycombinator.com/')\n",
        "content += cnt\n",
        "content += ('<br><br><br>')\n",
        "content += ('<br><br><br> End of message')"
      ],
      "metadata": {
        "colab": {
          "base_uri": "https://localhost:8080/",
          "height": 0
        },
        "id": "Y1lg6sJtnbVm",
        "outputId": "930d7383-49f9-48bd-a279-549278b3ab13"
      },
      "execution_count": 59,
      "outputs": [
        {
          "output_type": "stream",
          "name": "stdout",
          "text": [
            "Exctracting Hacker Newds Stories\n"
          ]
        }
      ]
    },
    {
      "cell_type": "markdown",
      "source": [
        "I have filled the empty list with the extracted information"
      ],
      "metadata": {
        "id": "AX8b4K12z9oU"
      }
    },
    {
      "cell_type": "code",
      "source": [
        "print('Composing Email')"
      ],
      "metadata": {
        "colab": {
          "base_uri": "https://localhost:8080/",
          "height": 0
        },
        "id": "rlzCPPvnnySn",
        "outputId": "df44678a-c767-431e-d8b9-f16e073ac75c"
      },
      "execution_count": 60,
      "outputs": [
        {
          "output_type": "stream",
          "name": "stdout",
          "text": [
            "Composing Email\n"
          ]
        }
      ]
    },
    {
      "cell_type": "code",
      "source": [
        "SERVER= 'smtp.gmail.com'\n",
        "PORT= 587\n",
        "FROM='munyakevin6@gmail.com'\n",
        "TO=['geraldnyaga07@gmail.com','5703.2022@students.ku.ac.ke','kaberiakevinmunya3@gmail.com', 'odhongallan03@gmail.com']\n",
        "PASS='szna gupf cemf pbvq'"
      ],
      "metadata": {
        "id": "A1QBZyofn5Ds"
      },
      "execution_count": 61,
      "outputs": []
    },
    {
      "cell_type": "markdown",
      "source": [
        "I have defined the source of the email and where I want to direct my emails to"
      ],
      "metadata": {
        "id": "lPkQvKN_0EGl"
      }
    },
    {
      "cell_type": "code",
      "source": [
        "msg=MIMEMultipart()\n",
        "msg['subject']='Top News Stories Hacker News By Kevin Munya + ' + str(now.day) + '-' + str(now.month) + '-' + str(now.year)\n",
        "msg['From']=FROM\n",
        "msg['To']=','.join(TO)\n",
        "msg.preamble= 'Top News Stories Hacker News'\n",
        "msg.attach(MIMEText(content, 'html'))\n",
        "print('Initiating Server')\n",
        "msg.attach(MIMEText(content, 'html'))\n",
        "print('Initiating Server')\n"
      ],
      "metadata": {
        "colab": {
          "base_uri": "https://localhost:8080/",
          "height": 0
        },
        "id": "86m7AoqwoOvM",
        "outputId": "5b16b4b5-fd53-4c67-a8ea-a1d02820f2c1"
      },
      "execution_count": 62,
      "outputs": [
        {
          "output_type": "stream",
          "name": "stdout",
          "text": [
            "Initiating Server\n",
            "Initiating Server\n"
          ]
        }
      ]
    },
    {
      "cell_type": "markdown",
      "source": [
        "I have given the emails a Subject/Tittle and date"
      ],
      "metadata": {
        "id": "mYecrWTc0NOp"
      }
    },
    {
      "cell_type": "code",
      "source": [
        "server = smtplib.SMTP(SERVER, PORT)\n",
        "server.set_debuglevel(0)\n",
        "server.ehlo()\n",
        "server.starttls()\n",
        "server.login(FROM, PASS)\n",
        "server.sendmail(FROM, TO, msg=msg.as_string())\n",
        "server.quit()\n",
        "print('Email sent')"
      ],
      "metadata": {
        "colab": {
          "base_uri": "https://localhost:8080/",
          "height": 0
        },
        "id": "xU2Tc3DVorWF",
        "outputId": "a807c4cf-7dcf-4969-f008-85fbb905fb7a"
      },
      "execution_count": 63,
      "outputs": [
        {
          "output_type": "stream",
          "name": "stdout",
          "text": [
            "Email sent\n"
          ]
        }
      ]
    },
    {
      "cell_type": "markdown",
      "source": [
        "I have hidden all the possible errors that could arise by setting a debug level of zero then finally sent the emails to my recipients."
      ],
      "metadata": {
        "id": "WqbdlcOY0cRk"
      }
    }
  ]
}